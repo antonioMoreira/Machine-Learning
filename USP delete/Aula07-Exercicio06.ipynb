{
 "cells": [
  {
   "cell_type": "markdown",
   "metadata": {
    "colab_type": "text",
    "id": "LTpbHqrlBaNw"
   },
   "source": [
    "# Aula 07 - Exercício 06\n",
    "## KNN e Métricas de avaliação\n",
    "### Alunos:\n",
    " - Antonio Moreira\n",
    " "
   ]
  },
  {
   "cell_type": "markdown",
   "metadata": {
    "colab_type": "text",
    "id": "uTXmrvNrBkJB"
   },
   "source": [
    "O dataset [\"Breast Cancer Wisconsin\"](https://archive.ics.uci.edu/ml/datasets/Breast+Cancer+Wisconsin+(Original) é um dataset que contém 699 instâncias, cada uma com 10 atributos númericos e 1 atributo correspondente a classe. A idéia do dataset é conseguir classificar um tumor como benigno ou maligno a partir de 10 variáveis descritivas. Foi adicionado um cabeçalho no arquivo original para facilitar seu manuseio.\n",
    "\n",
    "- Notas:\n",
    "\n",
    "  - **O dataset possui valores ausentes, representados por \"?\"**\n",
    "  - A primeira variável do dataset é o ID de cada paciente. Essa variável **NÃO** deve ser utilizada no classificador \n",
    "\n",
    "---\n",
    "\n",
    "- Carregue o dataset a partir do arquivo fornecido, substituindo os valores ausentes pela média dos valores daquela coluna. Utilize as classes `sklearn.impute.SimpleImputer` e a biblioteca `pandas`."
   ]
  },
  {
   "cell_type": "code",
   "execution_count": 1,
   "metadata": {
    "colab": {},
    "colab_type": "code",
    "id": "T5VRbRDdUArr"
   },
   "outputs": [],
   "source": [
    "import numpy as np\n",
    "import pandas as pd\n",
    "from sklearn.impute import SimpleImputer\n",
    "\n",
    "data = pd.read_csv(\"./datasets/breast-cancer-wisconsin.data\", na_values='?')\n",
    "\n",
    "#data = data.replace('?', np.nan) # substitui valores '?' por NaN para tpdos os atributos serem numéricos\n",
    "\n",
    "X = data.values[...,1:-1]  # features sem ID\n",
    "Y = data.values[...,-1]    # classes\n",
    "\n",
    "imp_mean = SimpleImputer(missing_values=np.nan, strategy='mean')\n",
    "X = imp_mean.fit_transform(X) # Substituindo NaN pela média da feature"
   ]
  },
  {
   "cell_type": "markdown",
   "metadata": {
    "colab_type": "text",
    "id": "09jpLsH0JeYH"
   },
   "source": [
    "\n",
    "\n",
    "---\n",
    "- Centralize e normalize os dados e separe 80% do conjunto para treino e 20% para testes. Faça uma divisão dos dados de maneira **estratificada**."
   ]
  },
  {
   "cell_type": "code",
   "execution_count": 2,
   "metadata": {
    "colab": {},
    "colab_type": "code",
    "id": "rNb1jmocLWhG"
   },
   "outputs": [],
   "source": [
    "from sklearn.model_selection import train_test_split\n",
    "from sklearn.preprocessing import StandardScaler\n",
    "\n",
    "np.random.seed(42)\n",
    "\n",
    "# standarizando\n",
    "scaler = StandardScaler()\n",
    "X = scaler.fit_transform(X)\n",
    "\n",
    "# splitando\n",
    "(X_train, X_test, Y_train, Y_test) = train_test_split(X,Y, test_size=0.2, random_state=42, stratify=Y)"
   ]
  },
  {
   "cell_type": "markdown",
   "metadata": {
    "colab_type": "text",
    "id": "XPr0CmMwD5-w"
   },
   "source": [
    "\n",
    "\n",
    "---\n",
    "\n",
    "- Faça classificação no conjunto de testes utilizando 4 classificadores KNN, com K=3 e 15 e p=1 e 2 (distância de Minkowski/Euclidiana). Para cada classificador, calcule e exiba a matriz de confusão bem como a acurácia do classificador. **Para calcular a acurácia, utilize APENAS a matriz de confusão.**"
   ]
  },
  {
   "cell_type": "code",
   "execution_count": 3,
   "metadata": {
    "colab": {},
    "colab_type": "code",
    "id": "si5kXA-Oyj6O"
   },
   "outputs": [
    {
     "name": "stdout",
     "output_type": "stream",
     "text": [
      "Classfier 1: \n",
      " [[88  4]\n",
      " [ 5 43]]\n",
      "Accuracy 1:  0.9357142857142857 \n",
      "\n",
      "Classfier 2: \n",
      " [[88  4]\n",
      " [ 5 43]]\n",
      "Accuracy 2:  0.9357142857142857 \n",
      "\n",
      "Classfier 3: \n",
      " [[89  3]\n",
      " [ 4 44]]\n",
      "Accuracy 3:  0.95 \n",
      "\n",
      "Classfier 4: \n",
      " [[89  3]\n",
      " [ 2 46]]\n",
      "Accuracy 4:  0.9642857142857143\n"
     ]
    }
   ],
   "source": [
    "from sklearn.neighbors import KNeighborsClassifier\n",
    "from sklearn.metrics import confusion_matrix\n",
    "\n",
    "classifier_1 = KNeighborsClassifier(n_neighbors=3, p=1) # 3 vizinhos próxmimos usando distância de manhattan\n",
    "classifier_1.fit(X_train, Y_train)\n",
    "y1_pred = classifier_1.predict(X_test)\n",
    "\n",
    "conf_matrix1 = confusion_matrix(Y_test, y1_pred)\n",
    "print(\"Classfier 1: \\n\", conf_matrix1)\n",
    "print(\"Accuracy 1: \", np.trace(conf_matrix1)/conf_matrix1.sum(), '\\n')\n",
    "#------\n",
    "classifier_2 = KNeighborsClassifier(n_neighbors=3, p=2) # 3 vizinhos próxmimos usando distância euclidiana\n",
    "classifier_2.fit(X_train, Y_train)\n",
    "y2_pred = classifier_2.predict(X_test)\n",
    "\n",
    "conf_matrix2 = confusion_matrix(Y_test, y2_pred)\n",
    "print(\"Classfier 2: \\n\", conf_matrix2)\n",
    "print(\"Accuracy 2: \", np.trace(conf_matrix2)/conf_matrix2.sum(), '\\n')\n",
    "#------\n",
    "classifier_3 = KNeighborsClassifier(n_neighbors=15, p=1) # 15 vizinhos próxmimos usando distância de manhattan\n",
    "classifier_3.fit(X_train, Y_train)\n",
    "y3_pred = classifier_3.predict(X_test)\n",
    "\n",
    "conf_matrix3 = confusion_matrix(Y_test, y3_pred)\n",
    "print(\"Classfier 3: \\n\", conf_matrix3)\n",
    "print(\"Accuracy 3: \", np.trace(conf_matrix3)/conf_matrix3.sum(), '\\n')\n",
    "#------\n",
    "classifier_4 = KNeighborsClassifier(n_neighbors=15, p=2) # 15 vizinhos próxmimos usando distância euclidiana\n",
    "classifier_4.fit(X_train, Y_train)\n",
    "y4_pred = classifier_4.predict(X_test)\n",
    "\n",
    "conf_matrix4 = confusion_matrix(Y_test, y4_pred)\n",
    "print(\"Classfier 4: \\n\", conf_matrix4)\n",
    "print(\"Accuracy 4: \", np.trace(conf_matrix4)/conf_matrix4.sum())\n"
   ]
  },
  {
   "cell_type": "markdown",
   "metadata": {
    "colab_type": "text",
    "id": "I-xM0b4GM1Z4"
   },
   "source": [
    "\n",
    "\n",
    "---\n",
    "Agora vamos analisar um problema de classificação não binário. Para isso, vamos utilizar o conjunto Iris. Repetindo os passos anteriores:\n",
    "- Carregue o conjunto Iris\n",
    "- Centralize e normalize os dados\n",
    "- Separe o conjunto, de maneira **NÃO** estratificada, em 50% treino e 50% teste (a ideia é que o classificador tenha um erro maior)\n",
    "- Utilize um classificador KNN com K=1 para predizer o conjunto de teste. Essa predição será utilizado posteriormente.\n"
   ]
  },
  {
   "cell_type": "code",
   "execution_count": 4,
   "metadata": {
    "colab": {},
    "colab_type": "code",
    "id": "qR3G6nwVM2s4",
    "scrolled": false
   },
   "outputs": [],
   "source": [
    "from sklearn.datasets import load_iris\n",
    "\n",
    "(X, Y) = load_iris(return_X_y=True)\n",
    "\n",
    "# standarizando\n",
    "X = scaler.fit_transform(X)\n",
    "\n",
    "# splitando\n",
    "(X_train, X_test, Y_train, Y_test) = train_test_split(X,Y, test_size=0.2, random_state=42)\n",
    "\n",
    "# KNN com 1 vizinho próximo\n",
    "classifier_iris = KNeighborsClassifier(n_neighbors=1)\n",
    "classifier_iris.fit(X_train, Y_train)\n",
    "yiris_pred = classifier_iris.predict(X_test)"
   ]
  },
  {
   "cell_type": "markdown",
   "metadata": {
    "colab_type": "text",
    "id": "3mdi9Mf0QGq8"
   },
   "source": [
    "\n",
    "\n",
    "---\n",
    "\n",
    "- Mostre a matriz de confusão do conjunto de teste e em seguida, para cada variável do conjunto, mostre sua matriz de confusão binária.\n",
    "  - Dica: Pesquise sobre o método `numpy.delete`"
   ]
  },
  {
   "cell_type": "code",
   "execution_count": 12,
   "metadata": {
    "colab": {},
    "colab_type": "code",
    "id": "M-3uPd6MQTWT"
   },
   "outputs": [
    {
     "name": "stdout",
     "output_type": "stream",
     "text": [
      "Confusion Matrix Atr 0 :\n",
      " [[10  0]\n",
      " [ 0 20]] \n",
      "\n",
      "Confusion Matrix Atr 1 :\n",
      " [[ 8  1]\n",
      " [ 0 21]] \n",
      "\n",
      "Confusion Matrix Atr 2 :\n",
      " [[11  0]\n",
      " [ 1 18]] \n",
      "\n"
     ]
    }
   ],
   "source": [
    "conf_matrix = confusion_matrix(Y_test, yiris_pred)\n",
    "\n",
    "conf_atr = list()\n",
    "\n",
    "for i in range(len(conf_matrix)):\n",
    "    row_rmv = np.delete(conf_matrix, i, 0)\n",
    "    col_rmv = np.delete(row_rmv, i, 1)\n",
    "    x = np.array([[conf_matrix[i,i], conf_matrix[i].sum()-conf_matrix[i,i]], [conf_matrix[...,i].sum()-conf_matrix[i,i], col_rmv.sum()]])\n",
    "    conf_atr.append(x)\n",
    "    print(\"Confusion Matrix Atr\", i,':\\n', x, '\\n')"
   ]
  },
  {
   "cell_type": "markdown",
   "metadata": {
    "colab_type": "text",
    "id": "RZT3vF7uR3VJ"
   },
   "source": [
    "\n",
    "\n",
    "---\n",
    "\n",
    "- Utilizando as matrizes de confusão binárias calculadas acima, calcule o **Recall** e **Precisão** de cada variável do conjunto.\n",
    "  - Dica 1: Lembre-se que ao calcular a matriz de confusão binária para cada classe, obtemos os valores VP, FP, FN e VN.\n",
    "  - Dica 2: Lembre-se que Recall é calculado por $\\frac{VP}{VP+FN}$ e Precisão por  $\\frac{VP}{VP+FP}$."
   ]
  },
  {
   "cell_type": "code",
   "execution_count": 19,
   "metadata": {
    "colab": {},
    "colab_type": "code",
    "id": "guT6-yJ-S6uI"
   },
   "outputs": [
    {
     "name": "stdout",
     "output_type": "stream",
     "text": [
      "Recall : 1.0\n",
      "Precision:  1.0\n",
      "--------\n",
      "Recall : 1.0\n",
      "Precision:  0.8888888888888888\n",
      "--------\n",
      "Recall : 0.9166666666666666\n",
      "Precision:  1.0\n",
      "--------\n"
     ]
    }
   ],
   "source": [
    "for i in conf_atr:\n",
    "    print(\"Recall :\", i[0,0]/i[...,0].sum())\n",
    "    print(\"Precision: \", i[0,0]/i[0,...].sum())\n",
    "    print(\"--------\")"
   ]
  },
  {
   "cell_type": "markdown",
   "metadata": {
    "colab_type": "text",
    "id": "APzuX9F9HNGB"
   },
   "source": [
    "\n",
    "\n",
    "---\n",
    "Considere o conjunto de dados abaixo, onde são representados um conjunto de $n$ pontos que podem ser classificados em duas classes: verde ou azul. **Todo** o conjunto pode ser visto na imagem abaixo. O ponto preto $q$ é um ponto de consulta, cuja classe é desconhecida. Suponha que foi usado um classificador do tipo KNN com distância euclidiana para classificar esse ponto.\n",
    "\n",
    "\n",
    "![](https://drive.google.com/uc?export=view&id=1e7oUOHOwyFZ8R1Xy0FPUJ8n_M0YGB2_d)\n",
    "\n",
    "\n",
    "- Qual a saída desse classificador para K=3?"
   ]
  },
  {
   "cell_type": "markdown",
   "metadata": {
    "colab_type": "text",
    "id": "7hcbOzE_KHQC"
   },
   "source": [
    "Para **k=3** o classificador classificará o _query point_ como **azul**, pois são os 3 pontos mais próximos."
   ]
  },
  {
   "cell_type": "markdown",
   "metadata": {
    "colab_type": "text",
    "id": "XeDZ96YeJut7"
   },
   "source": [
    "\n",
    "\n",
    "---\n",
    "\n",
    "- E para K=9?"
   ]
  },
  {
   "cell_type": "markdown",
   "metadata": {
    "colab_type": "text",
    "id": "pS8FZKxtKH0F"
   },
   "source": [
    "Para **k=9** o classificador encontrará 6 pontos verdes e 3 pontos azuis próximos ao _query point_, portanto classificando como **verde**."
   ]
  },
  {
   "cell_type": "markdown",
   "metadata": {
    "colab_type": "text",
    "id": "llhVvRuqJ053"
   },
   "source": [
    "\n",
    "\n",
    "---\n",
    "\n",
    " - E para o caso extremo de K=$n$? A posição de $q$ no espaço interfere nesse resultado? Justifique."
   ]
  },
  {
   "cell_type": "markdown",
   "metadata": {
    "colab_type": "text",
    "id": "BHP1oCXHKIMx"
   },
   "source": [
    "Não, pois a grande maioria de pontos neste _dataset_ é verde, logo a maioria de classes \"votantes\" serão verdes."
   ]
  }
 ],
 "metadata": {
  "colab": {
   "collapsed_sections": [],
   "name": "Aula07-Exercicio06.ipynb",
   "provenance": [],
   "version": "0.3.2"
  },
  "kernelspec": {
   "display_name": "DS_ML",
   "language": "python",
   "name": "ds_ml"
  },
  "language_info": {
   "codemirror_mode": {
    "name": "ipython",
    "version": 3
   },
   "file_extension": ".py",
   "mimetype": "text/x-python",
   "name": "python",
   "nbconvert_exporter": "python",
   "pygments_lexer": "ipython3",
   "version": "3.6.7"
  }
 },
 "nbformat": 4,
 "nbformat_minor": 1
}
