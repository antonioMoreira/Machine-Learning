{
 "cells": [
  {
   "cell_type": "markdown",
   "metadata": {
    "colab_type": "text",
    "id": "aTlpjsyHUTv-"
   },
   "source": [
    "# Aula 06 - Exercício 05\n",
    "\n",
    "### Alunos:\n",
    " - Antonio Moreira - 9779242"
   ]
  },
  {
   "cell_type": "markdown",
   "metadata": {
    "colab_type": "text",
    "id": "Lj8Koo4pUWWU"
   },
   "source": [
    "## Multilayer Perceptron para classificação do dataset Wine\n",
    "Neste exercício utilizaremos a base de dados Wine, que consiste em 178 exemplos de dimensionalidade 13, separados em 3 classes. Os atributos dessa base de dados não estão normalizados, apresentando intervalos variados de valores.\n",
    "\n",
    "- Carregue a base de dados wine e normalize entre 0 e 1 o valor dos seus atributos"
   ]
  },
  {
   "cell_type": "code",
   "execution_count": 1,
   "metadata": {
    "colab": {},
    "colab_type": "code",
    "id": "qgP1cqVAUMQc"
   },
   "outputs": [
    {
     "name": "stdout",
     "output_type": "stream",
     "text": [
      "(178, 13)\n",
      "Classes:  [0 1 2]\n"
     ]
    }
   ],
   "source": [
    "import numpy as np\n",
    "from sklearn.datasets import load_wine\n",
    "from sklearn.preprocessing import MinMaxScaler\n",
    "\n",
    "(X, y) = load_wine(return_X_y=True)\n",
    "\n",
    "print(np.shape(X))\n",
    "\n",
    "scaler = MinMaxScaler()\n",
    "X_norm = scaler.fit_transform(X) # Vetor de atributos normalizados\n",
    "\n",
    "print(\"Classes: \", (np.unique(y)))"
   ]
  },
  {
   "cell_type": "markdown",
   "metadata": {
    "colab_type": "text",
    "id": "YxuLjxtg0uZ2"
   },
   "source": [
    "---\n",
    "- Agora divida a base em conjunto de teste e treino. Utilize 20% da base para teste e 80% para treino."
   ]
  },
  {
   "cell_type": "code",
   "execution_count": 2,
   "metadata": {
    "colab": {},
    "colab_type": "code",
    "id": "b8T1WrYHVs80"
   },
   "outputs": [
    {
     "name": "stdout",
     "output_type": "stream",
     "text": [
      "X train:  (142, 13)\n",
      "X test:  (36, 13)\n",
      "Y train:  (142,)\n",
      "Y test:  (36,)\n"
     ]
    }
   ],
   "source": [
    "from sklearn.model_selection import train_test_split\n",
    "\n",
    "(X_train, X_test, y_train, y_test) = train_test_split(X_norm, y, test_size=0.2, random_state=42)\n",
    "\n",
    "print(\"X train: \", np.shape(X_train))\n",
    "print(\"X test: \", np.shape(X_test))\n",
    "print(\"Y train: \", np.shape(y_train))\n",
    "print(\"Y test: \", np.shape(y_test))"
   ]
  },
  {
   "cell_type": "markdown",
   "metadata": {
    "colab_type": "text",
    "id": "YpZ85fjn08Hp"
   },
   "source": [
    "---\n",
    "- Treine 3 classificadores MLP (com `solver='sgd'`), variando o número de neurônios na camada escondida. Reporte o score dos classificadores nos conjuntos de treino e teste.\n",
    "  - Parâmetros para  alterar: hidden_layer_sizes, max_iter,  tol, learning_rate_init"
   ]
  },
  {
   "cell_type": "code",
   "execution_count": 7,
   "metadata": {
    "colab": {},
    "colab_type": "code",
    "id": "6B5F6mAazFO9"
   },
   "outputs": [
    {
     "name": "stdout",
     "output_type": "stream",
     "text": [
      "0.9444444444444444\n",
      "1.0\n",
      "0.9166666666666666\n"
     ]
    }
   ],
   "source": [
    "from sklearn.neural_network import MLPClassifier\n",
    "\n",
    "clf_1 = MLPClassifier(hidden_layer_sizes=(13,), max_iter=10000, solver='sgd', learning_rate='constant', learning_rate_init=1e-3)\n",
    "clf_1.fit(X_train, y_train)\n",
    "print(clf_1.score(X_test, y_test))\n",
    "    \n",
    "clf_2 = MLPClassifier(hidden_layer_sizes=(7,7), max_iter=10000, solver='sgd', learning_rate='constant', learning_rate_init=1e-3)\n",
    "clf_2.fit(X_train, y_train)\n",
    "print(clf_2.score(X_test, y_test))\n",
    "\n",
    "clf_3 = MLPClassifier(hidden_layer_sizes=(5,5,5), max_iter=10000, solver='sgd', learning_rate='adaptive', learning_rate_init=1e-3)\n",
    "clf_3.fit(X_train, y_train)\n",
    "print(clf_3.score(X_test, y_test))"
   ]
  },
  {
   "cell_type": "markdown",
   "metadata": {},
   "source": [
    "**Topologia Classificador 1**\n",
    "\n",
    "> _Input Layer_: 13 neurônios <br>\n",
    "> _Hidden Layer_: 1 camada com 13 neurônios <br>\n",
    "> _Output Layer_: 3 neurônios (mesmo nº de classes) <br>\n",
    "> _Epochs_: 200 (default) <br>\n",
    "> _Learning Rate_: Constante, inicializada em $10^{-3}$ <br>\n",
    "> _Solver_: 'sgd', a partir do gradiênte estocástico\n",
    "\n",
    "**Topologia Classificador 2**\n",
    "\n",
    "> _Input Layer_: 13 neurônios <br>\n",
    "> _Hidden Layer_: 2 camada com 7 neurônios <br>\n",
    "> _Output Layer_: 3 neurônios (mesmo nº de classes) <br>\n",
    "> _Epochs_: 200 (default) <br>\n",
    "> _Learning Rate_: Constante, inicializada em $10^{-3}$ <br>\n",
    "> _Solver_: 'sgd', a partir do gradiênte estocástico\n",
    "\n",
    "**Topologia Classificador 3**\n",
    "\n",
    "> _Input Layer_: 13 neurônios <br>\n",
    "> _Hidden Layer_: 3 camada com 5 neurônios <br>\n",
    "> _Output Layer_: 3 neurônios (mesmo nº de classes) <br>\n",
    "> _Epochs_: 200 (default) <br>\n",
    "> _Learning Rate_: Adaptativo, inicializada em $10^{-3}$ <br>\n",
    "> _Solver_: 'sgd', a partir do gradiênte estocástico"
   ]
  },
  {
   "cell_type": "markdown",
   "metadata": {
    "colab_type": "text",
    "id": "PfX6WYjh13GS"
   },
   "source": [
    "---\n",
    "- Selecione uma amostra de tamanho 10 do conjunto de testes. Selecione o classificador que apresentou maior acurácia no conjunto de testes e calcule, para cada elemento da amostra, a classe esperada, a classe obtida e a probabilidade estimada de cada classe"
   ]
  },
  {
   "cell_type": "code",
   "execution_count": 8,
   "metadata": {
    "colab": {},
    "colab_type": "code",
    "id": "V98MdpUaJPuH"
   },
   "outputs": [
    {
     "name": "stdout",
     "output_type": "stream",
     "text": [
      "Predict:\t [0 0 2 0 1 0 1 2 1 2]\n",
      "Expected:\t [0 0 2 0 1 0 1 2 1 2]\n"
     ]
    },
    {
     "data": {
      "text/plain": [
       "array([[0.87, 0.12, 0.01],\n",
       "       [0.92, 0.07, 0.01],\n",
       "       [0.03, 0.24, 0.74],\n",
       "       [0.93, 0.07, 0.  ],\n",
       "       [0.21, 0.77, 0.02],\n",
       "       [0.96, 0.04, 0.01],\n",
       "       [0.06, 0.91, 0.03],\n",
       "       [0.02, 0.04, 0.95],\n",
       "       [0.12, 0.88, 0.01],\n",
       "       [0.11, 0.14, 0.75]])"
      ]
     },
     "execution_count": 8,
     "metadata": {},
     "output_type": "execute_result"
    }
   ],
   "source": [
    "# Clf_1 Apresentou score = 0.888..\n",
    "\n",
    "#pegar uma amostra aleatória com 10 elementos\n",
    "\n",
    "print(\"Predict:\\t\", clf_1.predict(X_test[:10]))\n",
    "print(\"Expected:\\t\", y_test[:10])\n",
    "clf_1.predict_proba(X_test[:10]).round(2)"
   ]
  },
  {
   "cell_type": "markdown",
   "metadata": {
    "colab_type": "text",
    "id": "03NDi1Re23W5"
   },
   "source": [
    "---\n",
    "- Agora sobre a mesma amostra escolhida anteriormente, selecione o classificador que apresentou menor acurácia no conjunto de testes e calcule, para cada elemento da amostra, a classe esperada, a classe obtida e a probabilidade esperada de cada classe."
   ]
  },
  {
   "cell_type": "code",
   "execution_count": 5,
   "metadata": {
    "colab": {},
    "colab_type": "code",
    "id": "F5OBeWOR3Kdr"
   },
   "outputs": [
    {
     "name": "stdout",
     "output_type": "stream",
     "text": [
      "Predict:\t [0 0 2 0 1 0 1 2 1 2]\n",
      "Expected:\t [0 0 2 0 1 0 1 2 1 2]\n",
      "[[1.   0.   0.  ]\n",
      " [1.   0.   0.  ]\n",
      " [0.05 0.12 0.83]\n",
      " [0.99 0.01 0.  ]\n",
      " [0.   0.99 0.  ]\n",
      " [1.   0.   0.  ]\n",
      " [0.   0.99 0.01]\n",
      " [0.04 0.11 0.84]\n",
      " [0.01 0.99 0.  ]\n",
      " [0.08 0.12 0.8 ]]\n"
     ]
    }
   ],
   "source": [
    "# Clf_2 Apresentou score = 0.977\n",
    "\n",
    "#pegar a mesma amostra anterior\n",
    "\n",
    "print(\"Predict:\\t\", clf_2.predict(X_test[:10]))\n",
    "print(\"Expected:\\t\", y_test[:10])\n",
    "print(clf_3.predict_proba(X_test[:10]).round(2))"
   ]
  },
  {
   "cell_type": "markdown",
   "metadata": {
    "colab_type": "text",
    "id": "aZF6M90l3dfd"
   },
   "source": [
    "\n",
    "\n",
    "---\n",
    "\n",
    "- Faça uma análise das probabilidades calculadas por cada classificador nos exemplos corretos e relacione-as com a 'qualidade' dos mesmos."
   ]
  },
  {
   "cell_type": "markdown",
   "metadata": {
    "colab_type": "text",
    "id": "yCVPzVVJ7wql"
   },
   "source": [
    "**Para o classificador 1:** <br>\n",
    "Embora o classificador 1 tenha acertado todas as repostas, para algumas entradas o classificador apresentou maior certeza, entre 100-80% para determinada classe, no entando para outras entradas o classificador ficou em dúvida entre duas classes numa porcentagem de 55~45%.\n",
    "\n",
    "---\n",
    "\n",
    "**Para o classificador 2:** <br>\n",
    "O classificador 2 demonstrou o mesmo comportamento queo classificador 1 para as mesmas entradas.\n"
   ]
  },
  {
   "cell_type": "markdown",
   "metadata": {
    "colab_type": "text",
    "id": "BkCZAX_VUdDD"
   },
   "source": [
    "---\n",
    "- Calcule, usando 10-fold cross-validation, a acurácia média da melhor configuração de classificador que você utilizou e seu desvio padrão"
   ]
  },
  {
   "cell_type": "code",
   "execution_count": 10,
   "metadata": {
    "colab": {},
    "colab_type": "code",
    "id": "8lJCpQ8FU8ca"
   },
   "outputs": [
    {
     "name": "stdout",
     "output_type": "stream",
     "text": [
      "StratifiedKFold(n_splits=5, random_state=None, shuffle=False)\n"
     ]
    }
   ],
   "source": [
    "from sklearn.model_selection import StratifiedKFold\n",
    "\n",
    "skf = StratifiedKFold(n_splits=5)\n",
    "skf.get_n_splits(X,y)\n",
    "print(skf)\n",
    "\n",
    "for train_index, test_index in skf.split(X, y):\n",
    "    print(\"TRAIN:\", train_index, \"TEST:\", test_index)\n",
    "    X_train, X_test = X[train_index], X[test_index]\n",
    "    y_train, y_test = y[train_index], y[test_index]"
   ]
  }
 ],
 "metadata": {
  "colab": {
   "collapsed_sections": [],
   "name": "Aula06-Exercicio05.ipynb",
   "provenance": [],
   "toc_visible": true,
   "version": "0.3.2"
  },
  "kernelspec": {
   "display_name": "DS_ML",
   "language": "python",
   "name": "ds_ml"
  },
  "language_info": {
   "codemirror_mode": {
    "name": "ipython",
    "version": 3
   },
   "file_extension": ".py",
   "mimetype": "text/x-python",
   "name": "python",
   "nbconvert_exporter": "python",
   "pygments_lexer": "ipython3",
   "version": "3.6.7"
  }
 },
 "nbformat": 4,
 "nbformat_minor": 1
}
