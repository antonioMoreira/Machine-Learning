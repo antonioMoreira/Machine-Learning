{
 "cells": [
  {
   "cell_type": "markdown",
   "metadata": {},
   "source": [
    "# Multilayer Perceptron\n",
    "---\n",
    "## Objetivo\n",
    "Desenvolver a arquitetura de uma **rede neural aritifical** usando o modelo **Multilayer Perceptron** que seja capaz de reconhecer dígitos escritos à mão de um *dataset* fornecido.\n",
    "\n",
    "\n",
    "## Dataset\n",
    "O [conjunto de dados](https://archive.ics.uci.edu/ml/datasets/semeion+handwritten+digit) econtra-se disponível no site [UCI - Machine Learning Repository](https://archive.ics.uci.edu/ml/index.php) e contém 1593 amostras de dígitos escritos a mão por 80 pessoas, que então foram digitalizados e recortados em uma imagem *gray scale* de 16*x*16 pixels. Cada imagem está associada à uma classe que representa o valor numérico do dígito correspondente, pois, neste projeto, lidamos com __aprendizado supervisionado__.\n",
    "\n",
    "**Exemplo: *imagem 1.pbm* :** \n",
    "\n",
    "*P1* <br>\n",
    "*16 16* <br>\n",
    "*0 0 0 0 0 0 1 1 1 1 1 1 1 1 0 0* <br>\n",
    "*0 0 0 0 0 1 1 1 1 1 1 0 1 1 0 0* <br>\n",
    "*0 0 0 0 1 1 1 1 1 1 0 0 0 1 1 0* <br>\n",
    "*0 0 0 1 1 1 1 1 0 0 0 0 1 1 1 1* <br>\n",
    "*0 0 0 1 1 1 1 0 1 1 1 1 1 1 1 0* <br>\n",
    "*0 0 0 1 1 1 0 1 1 1 1 1 0 1 1 0* <br>\n",
    "*0 0 1 1 1 1 1 1 1 1 0 0 0 1 1 0* <br>\n",
    "*0 0 1 1 1 1 1 1 0 0 0 0 1 1 0 0* <br>\n",
    "*0 1 1 1 1 1 1 0 0 0 0 0 1 1 0 0* <br>\n",
    "*0 1 1 1 1 0 0 0 0 0 0 0 1 1 0 0* <br>\n",
    "*0 1 1 1 0 0 0 0 0 0 1 1 1 0 0 0* <br>\n",
    "*1 1 1 0 0 0 0 0 0 0 1 1 0 0 0 0* <br>\n",
    "*1 1 1 1 0 0 0 0 1 1 1 1 0 0 0 0* <br>\n",
    "*1 1 1 1 0 0 0 1 1 1 0 0 0 0 0 0* <br>\n",
    "*1 0 1 1 1 1 1 1 1 0 0 0 0 0 0 0* <br> \n",
    "\n",
    "> - **P1**: *Magic Number*, indica que a imagem é _Portable BitMap_, ou seja, que só recebe valores 0 (branco) e 1(preto).<br>\n",
    "> - **16 16**: números que indicam a dimensão da imagem (_linha_ e _coluna_, respectivamente).<br>\n",
    "> - **Valores**: 16 linhas com 16 valores representando os pixels da imagem.<br>\n",
    "\n",
    "Visualização da imagem ampliada:\n",
    "![0.pgm](./imgs/img1.png)\n",
    "\n",
    "A imagem acima representa uma das 1593 amostras do conjunto de dados, no entanto, para facilitar o processamento, as imagens foram vetorizadas. Portanto, cada linha do conjunto de dados contém: \n",
    "> - A imagem vetorizada em 256 valores.\n",
    "> - Classe associada, que é um vetor binário com 10 posições onde a primeira posição representa o dígito zero e última o dígito 1. <br> **Ex**: O valor zero está associado à classe *1 0 0 0 0 0 0 0 0 0*, enquanto o valor um está associado à classe *0 1 0 0 0 0 0 0 0 0*.\n",
    "\n",
    "\n",
    "## Linguagem e Bibliotecas\n",
    "Este projeto foi realizado usando _Python 3_ devido a facilidade intrínseca da linguagem e suas bibliotecas. Foram usadas somente as bibliotecas [NumPy](http://www.numpy.org/), que lida com manipulação de matrizes e vetores n-dimensionais."
   ]
  },
  {
   "cell_type": "code",
   "execution_count": 2,
   "metadata": {},
   "outputs": [],
   "source": [
    "import numpy as np\n",
    "\n",
    "np.random.seed(42)"
   ]
  }
 ],
 "metadata": {
  "kernelspec": {
   "display_name": "DS_ML",
   "language": "python",
   "name": "ds_ml"
  },
  "language_info": {
   "codemirror_mode": {
    "name": "ipython",
    "version": 3
   },
   "file_extension": ".py",
   "mimetype": "text/x-python",
   "name": "python",
   "nbconvert_exporter": "python",
   "pygments_lexer": "ipython3",
   "version": "3.6.7"
  }
 },
 "nbformat": 4,
 "nbformat_minor": 2
}
